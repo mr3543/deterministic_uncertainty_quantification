{
 "cells": [
  {
   "cell_type": "code",
   "execution_count": null,
   "metadata": {},
   "outputs": [],
   "source": [
    "import os\n",
    "os.chdir('/home/mmr/DUQ')\n",
    "\n",
    "import torch\n",
    "import torch.nn as nn\n",
    "import torch.nn.functional as F\n",
    "import torch.optim as optim\n",
    "from torchvision import transforms\n",
    "from torch.optim.lr_scheduler import StepLR\n",
    "\n",
    "import numpy as np\n",
    "\n",
    "from src.model.backbone import Backbone\n",
    "from src.model.duqmodel import DUQ\n",
    "from src.utils.utils import grad_penalty,train_duq,test_duq"
   ]
  },
  {
   "cell_type": "code",
   "execution_count": null,
   "metadata": {},
   "outputs": [],
   "source": [
    "batch_size  = 100\n",
    "\n",
    "transform=transforms.Compose([\n",
    "        transforms.ToTensor(),\n",
    "        transforms.Normalize((0.286,), (0.353,))\n",
    "        ])\n",
    "\n",
    "data_root = '~/DUQ/data/fashion_mnist/'\n",
    "\n",
    "train_dataset = torchvision.datasets.FashionMNIST(data_root,transform=transform)\n",
    "train_loader  = torch.utils.data.DataLoader(train_dataset,batch_size = batch_size)\n",
    "\n",
    "test_dataset  = torchvision.datasets.FashionMNIST(data_root,transform=transform,train=False)\n",
    "test_loader   = torch.utils.data.DataLoader(test_dataset,batch_size = batch_size)\n"
   ]
  },
  {
   "cell_type": "code",
   "execution_count": null,
   "metadata": {},
   "outputs": [],
   "source": [
    "sigma = 0.1\n",
    "gamma = .99\n",
    "num_classes = 10\n",
    "emb_size = 256\n",
    "lambda_ = 0 \n",
    "\n",
    "duq_model = DUQ(sigma,gamma,num_classes,emb_size).cuda()\n",
    "opt      = optim.SGD(duq_model.parameters(),lr = 0.05,momentum=0.9,weight_decay = 1e-4)\n",
    "sched    = StepLR(opt,step_size=10,gamma = 0.2)"
   ]
  },
  {
   "cell_type": "code",
   "execution_count": null,
   "metadata": {
    "scrolled": true
   },
   "outputs": [],
   "source": [
    "for epoch in range(30):\n",
    "    train_duq(duq_model,epoch,'cuda',train_loader,opt,lambda_)\n",
    "    test_duq(duq_model,epoch,batch_size,'cuda',test_loader)\n",
    "    sched.step()"
   ]
  },
  {
   "cell_type": "code",
   "execution_count": null,
   "metadata": {},
   "outputs": [],
   "source": [
    "import gc\n",
    "gc.collect()"
   ]
  },
  {
   "cell_type": "code",
   "execution_count": null,
   "metadata": {},
   "outputs": [],
   "source": [
    "# add gradient penalty  \n",
    "\n",
    "lambda_ = 0.05 \n",
    "\n",
    "duq_model = DUQ(sigma,gamma,num_classes,emb_size).cuda()\n",
    "opt      = optim.SGD(duq_model.parameters(),lr = 0.05,momentum=0.9,weight_decay = 1e-4)\n",
    "sched    = StepLR(opt,step_size=10,gamma = 0.2)"
   ]
  },
  {
   "cell_type": "code",
   "execution_count": null,
   "metadata": {},
   "outputs": [],
   "source": [
    "for epoch in range(30):\n",
    "    train_duq(duq_model,epoch,'cuda',train_loader,opt,lambda_)\n",
    "    test_duq(duq_model,epoch,batch_size,'cuda',test_loader)\n",
    "    sched.step()"
   ]
  },
  {
   "cell_type": "code",
   "execution_count": null,
   "metadata": {},
   "outputs": [],
   "source": []
  },
  {
   "cell_type": "code",
   "execution_count": null,
   "metadata": {},
   "outputs": [],
   "source": []
  },
  {
   "cell_type": "code",
   "execution_count": null,
   "metadata": {},
   "outputs": [],
   "source": []
  },
  {
   "cell_type": "code",
   "execution_count": null,
   "metadata": {},
   "outputs": [],
   "source": []
  },
  {
   "cell_type": "code",
   "execution_count": null,
   "metadata": {},
   "outputs": [],
   "source": []
  },
  {
   "cell_type": "code",
   "execution_count": null,
   "metadata": {},
   "outputs": [],
   "source": []
  },
  {
   "cell_type": "code",
   "execution_count": null,
   "metadata": {},
   "outputs": [],
   "source": []
  },
  {
   "cell_type": "code",
   "execution_count": null,
   "metadata": {},
   "outputs": [],
   "source": []
  },
  {
   "cell_type": "code",
   "execution_count": null,
   "metadata": {},
   "outputs": [],
   "source": []
  },
  {
   "cell_type": "code",
   "execution_count": null,
   "metadata": {},
   "outputs": [],
   "source": []
  },
  {
   "cell_type": "code",
   "execution_count": null,
   "metadata": {},
   "outputs": [],
   "source": []
  },
  {
   "cell_type": "code",
   "execution_count": null,
   "metadata": {},
   "outputs": [],
   "source": []
  },
  {
   "cell_type": "code",
   "execution_count": null,
   "metadata": {},
   "outputs": [],
   "source": []
  }
 ],
 "metadata": {
  "kernelspec": {
   "display_name": "Python 3",
   "language": "python",
   "name": "python3"
  },
  "language_info": {
   "codemirror_mode": {
    "name": "ipython",
    "version": 3
   },
   "file_extension": ".py",
   "mimetype": "text/x-python",
   "name": "python",
   "nbconvert_exporter": "python",
   "pygments_lexer": "ipython3",
   "version": "3.8.2"
  }
 },
 "nbformat": 4,
 "nbformat_minor": 4
}
